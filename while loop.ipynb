{
 "cells": [
  {
   "cell_type": "code",
   "execution_count": null,
   "id": "82a2a4fe",
   "metadata": {},
   "outputs": [],
   "source": [
    "learning the while loop so we can do the some condition problem"
   ]
  },
  {
   "cell_type": "code",
   "execution_count": 3,
   "id": "23990df5",
   "metadata": {},
   "outputs": [
    {
     "name": "stdout",
     "output_type": "stream",
     "text": [
      "given the stement is not same \n"
     ]
    }
   ],
   "source": [
    "a=10\n",
    "b=12\n",
    "if a==10 and b==20: # == is the compresation operator and comprering  a and b \n",
    "    print(\"this statement is correct\")\n",
    "else:\n",
    "    print(\"given the stement is not same \")"
   ]
  },
  {
   "cell_type": "code",
   "execution_count": 12,
   "id": "13867073",
   "metadata": {},
   "outputs": [
    {
     "data": {
      "text/plain": [
       "False"
      ]
     },
     "execution_count": 12,
     "metadata": {},
     "output_type": "execute_result"
    }
   ],
   "source": [
    " a==10 and b==20\n",
    "    # because we have use here and opeartor we the both condition will true the statement will run"
   ]
  },
  {
   "cell_type": "code",
   "execution_count": null,
   "id": "d4472b4f",
   "metadata": {},
   "outputs": [],
   "source": [
    "n=int(input(\"Enter the number\"))\n",
    "num=1\n",
    "while(num<10):\n",
    "    print(num)\n",
    "    num+=1"
   ]
  },
  {
   "cell_type": "code",
   "execution_count": 18,
   "id": "20695589",
   "metadata": {},
   "outputs": [
    {
     "name": "stdout",
     "output_type": "stream",
     "text": [
      "Enter the number  7\n",
      "2\n",
      "4\n",
      "6\n"
     ]
    }
   ],
   "source": [
    "n=int(input(\"Enter the number  \")) # we have entered 7 here but it check the even nuber \n",
    "num=1\n",
    "while(num<n):\n",
    "    if(num%2==0):\n",
    "        print(num)\n",
    "    num+=1\n",
    "    "
   ]
  },
  {
   "cell_type": "code",
   "execution_count": 20,
   "id": "37b1f791",
   "metadata": {},
   "outputs": [
    {
     "name": "stdout",
     "output_type": "stream",
     "text": [
      "Enter the your full name rth\n",
      " this kind of short word not allow anymore\n"
     ]
    }
   ],
   "source": [
    "name = input(\"Enter the your full name \")\n",
    "if name =='rita':\n",
    "    print('you have entered correct name')\n",
    "elif name =='rta':\n",
    "    print(\"this is not any whatasapp\")\n",
    "else:\n",
    "    print(\" this kind of short word not allow anymore\")"
   ]
  },
  {
   "cell_type": "code",
   "execution_count": null,
   "id": "a72d6a90",
   "metadata": {},
   "outputs": [],
   "source": [
    "print the  table using the while loop"
   ]
  },
  {
   "cell_type": "code",
   "execution_count": 3,
   "id": "3f27270e",
   "metadata": {},
   "outputs": [
    {
     "name": "stdout",
     "output_type": "stream",
     "text": [
      "Enter the number  12\n",
      "12 x 1 = 12\n",
      "12 x 2 = 24\n",
      "12 x 3 = 36\n",
      "12 x 4 = 48\n",
      "12 x 5 = 60\n",
      "12 x 6 = 72\n",
      "12 x 7 = 84\n",
      "12 x 8 = 96\n",
      "12 x 9 = 108\n",
      "12 x 10 = 120\n"
     ]
    }
   ],
   "source": [
    "num=int(input(\"Enter the number  \"))\n",
    "num1=1\n",
    "while(num1<11):\n",
    "    print(num,\"x\",num1,\"=\",num*num1)\n",
    "    num1+=1"
   ]
  },
  {
   "cell_type": "code",
   "execution_count": null,
   "id": "7d885dec",
   "metadata": {},
   "outputs": [],
   "source": [
    "program to reverse the number"
   ]
  },
  {
   "cell_type": "code",
   "execution_count": 12,
   "id": "5567a2b6",
   "metadata": {},
   "outputs": [
    {
     "name": "stdout",
     "output_type": "stream",
     "text": [
      "Enter the number 1234\n",
      "4321\n"
     ]
    }
   ],
   "source": [
    "num=int(input(\"Enter the number \")) #132\n",
    "store=0\n",
    "while(num>0): #focus here carefull when you giving the condition\n",
    "    digit=num%10\n",
    "    store=(store*10)+digit\n",
    "    num=num//10\n",
    "print(store)"
   ]
  },
  {
   "cell_type": "code",
   "execution_count": 13,
   "id": "925bf3b7",
   "metadata": {},
   "outputs": [],
   "source": [
    "num=num//10"
   ]
  },
  {
   "cell_type": "code",
   "execution_count": 2,
   "id": "11aa7151",
   "metadata": {},
   "outputs": [
    {
     "name": "stdout",
     "output_type": "stream",
     "text": [
      " see your speed\n",
      " see your speed\n",
      " see your speed\n",
      " see your speed\n",
      " see your speed\n",
      " see your speed\n",
      " see your speed\n",
      " see your speed\n",
      " see your speed\n",
      " see your speed\n"
     ]
    }
   ],
   "source": [
    "initial=0\n",
    "final=100\n",
    "while(initial<final):\n",
    "    initial+=1\n",
    "    if(initial>90):\n",
    "        print(\" see your speed\")\n",
    "    \n",
    "        \n",
    "    "
   ]
  },
  {
   "cell_type": "code",
   "execution_count": null,
   "id": "09c0a72c",
   "metadata": {},
   "outputs": [],
   "source": [
    "sum of the whole number"
   ]
  },
  {
   "cell_type": "code",
   "execution_count": 4,
   "id": "0fb2e34e",
   "metadata": {},
   "outputs": [
    {
     "name": "stdout",
     "output_type": "stream",
     "text": [
      " 55 is sum of 11 number\n"
     ]
    }
   ],
   "source": [
    "n=11\n",
    "a=1\n",
    "sum=0\n",
    "while(a<n):\n",
    "    sum=sum+a\n",
    "    a+=1\n",
    "print(\" {} is sum of 11 number\".format(sum))"
   ]
  },
  {
   "cell_type": "code",
   "execution_count": 1,
   "id": "80c090d6",
   "metadata": {},
   "outputs": [
    {
     "name": "stdout",
     "output_type": "stream",
     "text": [
      "2\n",
      "4\n",
      "6\n",
      "8\n"
     ]
    }
   ],
   "source": [
    "n=2\n",
    "while(n<10):\n",
    "    print(n)\n",
    "    n+=2\n",
    "    "
   ]
  },
  {
   "cell_type": "code",
   "execution_count": 2,
   "id": "59dc2c31",
   "metadata": {},
   "outputs": [
    {
     "name": "stdout",
     "output_type": "stream",
     "text": [
      "1\n",
      "2\n",
      "3\n",
      "4\n",
      "5\n",
      "6\n",
      "7\n",
      "8\n",
      "9\n"
     ]
    }
   ],
   "source": [
    "n=1\n",
    "while(n<10):\n",
    "    print(n)\n",
    "    n+=1"
   ]
  },
  {
   "cell_type": "code",
   "execution_count": null,
   "id": "cbe24714",
   "metadata": {},
   "outputs": [],
   "source": [
    "n=1\n",
    "while(n<6):"
   ]
  },
  {
   "cell_type": "code",
   "execution_count": null,
   "id": "9192d046",
   "metadata": {},
   "outputs": [],
   "source": []
  }
 ],
 "metadata": {
  "kernelspec": {
   "display_name": "Python 3 (ipykernel)",
   "language": "python",
   "name": "python3"
  },
  "language_info": {
   "codemirror_mode": {
    "name": "ipython",
    "version": 3
   },
   "file_extension": ".py",
   "mimetype": "text/x-python",
   "name": "python",
   "nbconvert_exporter": "python",
   "pygments_lexer": "ipython3",
   "version": "3.11.4"
  }
 },
 "nbformat": 4,
 "nbformat_minor": 5
}
