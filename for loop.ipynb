{
 "cells": [
  {
   "cell_type": "code",
   "execution_count": 7,
   "id": "43c910d0",
   "metadata": {},
   "outputs": [
    {
     "name": "stdout",
     "output_type": "stream",
     "text": [
      "4\n",
      "5\n",
      "6\n",
      "7\n"
     ]
    }
   ],
   "source": [
    "for i in range(4,8):\n",
    "    print(i)"
   ]
  },
  {
   "cell_type": "code",
   "execution_count": 11,
   "id": "288829b8",
   "metadata": {},
   "outputs": [
    {
     "name": "stdout",
     "output_type": "stream",
     "text": [
      "enter the number 7\n",
      "*************\n",
      "***********\n",
      "*********\n",
      "*******\n",
      "*****\n",
      "***\n",
      "*\n"
     ]
    }
   ],
   "source": [
    "n=int(input(\"enter the number \"))\n",
    "for i in range(n,0,-1):\n",
    "    for j in range(n-i):\n",
    "        print('',end='')\n",
    "    \n",
    "    for j in range(2*i-1):\n",
    "        print(\"*\",end='')\n",
    "    print()\n",
    "    "
   ]
  },
  {
   "cell_type": "code",
   "execution_count": 17,
   "id": "5dac78f8",
   "metadata": {},
   "outputs": [
    {
     "name": "stdout",
     "output_type": "stream",
     "text": [
      "1\n",
      "<class 'int'>\n",
      "3\n",
      "<class 'int'>\n",
      "15\n",
      "<class 'int'>\n"
     ]
    }
   ],
   "source": [
    "dic=[12,\"ashish\",12,34,56,74,[1,2,12,],23]\n",
    "for i in dic:\n",
    "    if type(i)==list:\n",
    "        n=0\n",
    "        for j in i:\n",
    "            if type(j)==int:\n",
    "                n =n+j\n",
    "            print(n)\n",
    "            print(type(j))\n",
    "                "
   ]
  },
  {
   "cell_type": "code",
   "execution_count": 30,
   "id": "9c8de161",
   "metadata": {},
   "outputs": [
    {
     "name": "stdout",
     "output_type": "stream",
     "text": [
      "this number is odd number 1\n",
      "this number is the even number 2\n",
      "this number is the even number 12\n"
     ]
    }
   ],
   "source": [
    "dic=[12,12,34,56,74,[1,2,12,],23]\n",
    "for i in dic:\n",
    "    n=0\n",
    "    if type(i)==list:\n",
    "        for j in i:\n",
    "            if(j%2==0):\n",
    "                print(\"this number is the even number\",j)\n",
    "            else:\n",
    "                print(\"this number is odd number\",j)\n",
    "            "
   ]
  },
  {
   "cell_type": "code",
   "execution_count": 21,
   "id": "0c7bad5f",
   "metadata": {},
   "outputs": [
    {
     "name": "stdout",
     "output_type": "stream",
     "text": [
      "12\n",
      "12\n",
      "34\n",
      "56\n",
      "74\n",
      "[1, 2, 12]\n",
      "23\n"
     ]
    }
   ],
   "source": [
    "dic=[12,12,34,56,74,[1,2,12,],23]\n",
    "for i in dic:\n",
    "    if type(i)==list:\n",
    "        n=0\n",
    "        for j in i:\n",
    "            store=store.append()"
   ]
  },
  {
   "cell_type": "code",
   "execution_count": 31,
   "id": "6be4d293",
   "metadata": {},
   "outputs": [
    {
     "name": "stdout",
     "output_type": "stream",
     "text": [
      "[12, 2, 3, 20]\n"
     ]
    }
   ],
   "source": [
    "n=[12,2,3]\n",
    "n.append(20)\n",
    "print(n)"
   ]
  },
  {
   "cell_type": "code",
   "execution_count": 35,
   "id": "933df678",
   "metadata": {},
   "outputs": [
    {
     "name": "stdout",
     "output_type": "stream",
     "text": [
      "Enter the number4\n",
      "Enter the elemnt12\n",
      "Enter the elemnt12\n",
      "Enter the elemnt12\n",
      "Enter the elemnt121\n",
      "['12', '12', '12', '121']\n"
     ]
    }
   ],
   "source": [
    "n=int(input(\"Enter the number\"))\n",
    "store=[]\n",
    "for i in range(n):\n",
    "    new  = input(\"Enter the elemnt\")\n",
    "    store.append(new)\n",
    "print(store)\n",
    "    \n",
    "    "
   ]
  },
  {
   "cell_type": "code",
   "execution_count": null,
   "id": "9741d51a",
   "metadata": {},
   "outputs": [],
   "source": [
    "user=int(input(\"User press the some integers number\"))\n",
    "for i in range(n):\n",
    "    elemnt=input(\"Enter the input name \")\n",
    "    store.append(element)\n",
    "print(store)\n",
    "    "
   ]
  },
  {
   "cell_type": "code",
   "execution_count": 5,
   "id": "5c09eeee",
   "metadata": {
    "scrolled": true
   },
   "outputs": [
    {
     "name": "stdout",
     "output_type": "stream",
     "text": [
      "User press the some integers number4\n",
      "Enter the input name 1\n",
      "Enter the input name 2\n",
      "Enter the input name 4\n",
      "Enter the input name 5\n",
      "['1', '2', '4', '5']\n"
     ]
    }
   ],
   "source": [
    "user=int(input(\"User press the some integers number\"))\n",
    "store=[]         \n",
    "for i in range(user):\n",
    "    element=input(\"Enter the input name \")\n",
    "    store.append(element)\n",
    "print(store)\n",
    "    "
   ]
  },
  {
   "cell_type": "code",
   "execution_count": 7,
   "id": "bad55881",
   "metadata": {},
   "outputs": [
    {
     "name": "stdout",
     "output_type": "stream",
     "text": [
      "4\n",
      "5\n",
      "6\n"
     ]
    }
   ],
   "source": [
    "list=[12,12,12,12,1,21,2,1,2,1,2,3,4,5,5]\n",
    "for i in range(4,7):\n",
    "    print(i)\n",
    "    "
   ]
  },
  {
   "cell_type": "code",
   "execution_count": 20,
   "id": "8c1a9d61",
   "metadata": {},
   "outputs": [
    {
     "name": "stdout",
     "output_type": "stream",
     "text": [
      "AAAA\n",
      " bAAA\n",
      " b bAA\n",
      " b b bA\n"
     ]
    }
   ],
   "source": [
    "n=5\n",
    "for i in range(1,5):\n",
    "    for j in range(1,5):\n",
    "        if j>=i:\n",
    "            print(\"A\",end=\"\")\n",
    "       else:\n",
    "            print(\" b\",end='')\n",
    "    print()\n",
    "        "
   ]
  },
  {
   "cell_type": "code",
   "execution_count": 35,
   "id": "5b14cec6",
   "metadata": {},
   "outputs": [
    {
     "name": "stdout",
     "output_type": "stream",
     "text": [
      "Enter the number5\n",
      "   *   \n",
      "  ***  \n",
      " ***** \n",
      "*******\n"
     ]
    }
   ],
   "source": [
    "n=int(input(\"Enter the number\"))\n",
    "for i in range(1,n):\n",
    "    for j in range(1,n+3):\n",
    "        if j>=5-i and j<=3+i:\n",
    "            print(\"*\",end='')\n",
    "        else:\n",
    "            print(\" \",end='')\n",
    "    print('')"
   ]
  },
  {
   "cell_type": "code",
   "execution_count": 50,
   "id": "8ed8ae62",
   "metadata": {},
   "outputs": [
    {
     "name": "stdout",
     "output_type": "stream",
     "text": [
      "*******\n",
      " ***** \n",
      "  ***  \n",
      "   *   \n"
     ]
    }
   ],
   "source": [
    "for i in range (1,5):\n",
    "    for j in range(1,8):\n",
    "        if (j>=i and j<=8-i ):\n",
    "            print(\"*\",end=\"\")\n",
    "        else:\n",
    "            print(\" \", end='')\n",
    "    print()\n",
    "    "
   ]
  },
  {
   "cell_type": "code",
   "execution_count": 55,
   "id": "441f1cfa",
   "metadata": {},
   "outputs": [
    {
     "name": "stdout",
     "output_type": "stream",
     "text": [
      "   *   \n",
      "  ***  \n",
      " ***** \n",
      "*******\n"
     ]
    }
   ],
   "source": [
    "for i in range(1,5):\n",
    "    for j in range(1,8):\n",
    "        if j>=5-i and j<=3+i:\n",
    "            print(\"*\",end='')\n",
    "        else:\n",
    "            print(' ',end=\"\")\n",
    "    print('')"
   ]
  },
  {
   "cell_type": "code",
   "execution_count": 1,
   "id": "b17f3b9b",
   "metadata": {},
   "outputs": [
    {
     "name": "stdout",
     "output_type": "stream",
     "text": [
      "patteen\n"
     ]
    }
   ],
   "source": [
    "print(\"patteen\")"
   ]
  },
  {
   "cell_type": "code",
   "execution_count": 6,
   "id": "9f2b3b58",
   "metadata": {},
   "outputs": [
    {
     "name": "stdout",
     "output_type": "stream",
     "text": [
      "*******\n",
      "*** ***\n",
      "**   **\n",
      "*     *\n"
     ]
    }
   ],
   "source": [
    "for i in range(1,5):\n",
    "    for j in range(1,8):\n",
    "        if( j<=5-i or j>=3+i):\n",
    "            print(\"*\",end='')\n",
    "        else:\n",
    "            print(\" \",end ='')\n",
    "    print('')"
   ]
  },
  {
   "cell_type": "code",
   "execution_count": 38,
   "id": "dec34876",
   "metadata": {},
   "outputs": [
    {
     "name": "stdout",
     "output_type": "stream",
     "text": [
      "55555\n",
      "4444\n",
      "333\n",
      "22\n",
      "1\n",
      "\n"
     ]
    }
   ],
   "source": [
    "n=6\n",
    "for i in range(1,7):\n",
    "    for j in range(6-i):\n",
    "        k=6-i\n",
    "        print(k,end='')\n",
    "    print('')"
   ]
  },
  {
   "cell_type": "code",
   "execution_count": 23,
   "id": "d400b23b",
   "metadata": {},
   "outputs": [
    {
     "name": "stdout",
     "output_type": "stream",
     "text": [
      "6\n",
      "5\n",
      "4\n",
      "3\n",
      "2\n",
      "1\n"
     ]
    }
   ],
   "source": [
    "for i in range(6,0,-1):\n",
    "    print(i)"
   ]
  },
  {
   "cell_type": "code",
   "execution_count": null,
   "id": "1227240d",
   "metadata": {},
   "outputs": [],
   "source": []
  }
 ],
 "metadata": {
  "kernelspec": {
   "display_name": "Python 3 (ipykernel)",
   "language": "python",
   "name": "python3"
  },
  "language_info": {
   "codemirror_mode": {
    "name": "ipython",
    "version": 3
   },
   "file_extension": ".py",
   "mimetype": "text/x-python",
   "name": "python",
   "nbconvert_exporter": "python",
   "pygments_lexer": "ipython3",
   "version": "3.11.4"
  }
 },
 "nbformat": 4,
 "nbformat_minor": 5
}
